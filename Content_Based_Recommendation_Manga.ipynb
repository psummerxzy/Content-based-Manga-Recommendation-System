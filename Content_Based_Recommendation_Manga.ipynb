{
  "nbformat": 4,
  "nbformat_minor": 0,
  "metadata": {
    "colab": {
      "provenance": [],
      "include_colab_link": true
    },
    "kernelspec": {
      "name": "python3",
      "display_name": "Python 3"
    },
    "language_info": {
      "name": "python"
    }
  },
  "cells": [
    {
      "cell_type": "markdown",
      "metadata": {
        "id": "view-in-github",
        "colab_type": "text"
      },
      "source": [
        "<a href=\"https://colab.research.google.com/github/psummerxzy/Content-based-Manga-Recommendation-System/blob/main/Content_Based_Recommendation_Manga.ipynb\" target=\"_parent\"><img src=\"https://colab.research.google.com/assets/colab-badge.svg\" alt=\"Open In Colab\"/></a>"
      ]
    },
    {
      "cell_type": "markdown",
      "source": [
        "## Dataset: https://www.kaggle.com/datasets/astronautelvis/top-1000-ranked-mangas-by-myanimelist"
      ],
      "metadata": {
        "id": "h5SYJI29yaDt"
      }
    },
    {
      "cell_type": "markdown",
      "source": [
        "## Step 1: Import libraries"
      ],
      "metadata": {
        "id": "YnMYfV4jlXQ8"
      }
    },
    {
      "cell_type": "code",
      "source": [
        "import pandas as pd\n",
        "import numpy as np\n",
        "from sklearn.metrics.pairwise import cosine_similarity\n",
        "from sklearn.feature_extraction.text import TfidfVectorizer\n",
        "import nltk\n",
        "from nltk.tokenize import word_tokenize\n",
        "import re\n",
        "import random\n",
        "import pdb\n"
      ],
      "metadata": {
        "id": "Q2EppIXa2Zrc"
      },
      "execution_count": 9,
      "outputs": []
    },
    {
      "cell_type": "markdown",
      "source": [
        "##Using gdrive"
      ],
      "metadata": {
        "id": "dNUBYiyJlwFl"
      }
    },
    {
      "cell_type": "code",
      "source": [
        "#from google.colab import drive\n",
        "#drive.mount('/content/gdrive')\n",
        "#dataset = pd.read_csv('copy dataset path from google colab')"
      ],
      "metadata": {
        "id": "RB5d_qZ_lyHu"
      },
      "execution_count": 10,
      "outputs": []
    },
    {
      "cell_type": "markdown",
      "source": [
        "##Or manual upload"
      ],
      "metadata": {
        "id": "6Iy1xeYU9uv3"
      }
    },
    {
      "cell_type": "code",
      "source": [
        "df = pd.read_csv('/content/sample_data/Dataset Manga.csv') \n",
        "df.head()"
      ],
      "metadata": {
        "id": "xJA83B1CptI_",
        "colab": {
          "base_uri": "https://localhost:8080/",
          "height": 354
        },
        "outputId": "7c798cb5-4bd2-4262-d24e-5e7407ccc463"
      },
      "execution_count": 12,
      "outputs": [
        {
          "output_type": "execute_result",
          "data": {
            "text/plain": [
              "   Unnamed: 0                                            Title      Status  \\\n",
              "0           0                                          Berserk  Publishing   \n",
              "1           1  JoJo no Kimyou na Bouken Part 7: Steel Ball Run    Finished   \n",
              "2           2                                        One Piece  Publishing   \n",
              "3           3                                         Vagabond   On Hiatus   \n",
              "4           4                                          Monster    Finished   \n",
              "\n",
              "  Volumes Chapters  Rank  Score  \\\n",
              "0  unkown   unkown     1   9.39   \n",
              "1    24.0     96.0     2   9.23   \n",
              "2  unkown   unkown     3   9.15   \n",
              "3    37.0    327.0     4   9.13   \n",
              "4    18.0    162.0     5   9.10   \n",
              "\n",
              "                                            Synopsis  \\\n",
              "0  Guts, a former mercenary now known as the \"Bla...   \n",
              "1  In the American Old West, the world's greatest...   \n",
              "2  Gol D. Roger, a man referred to as the \"Pirate...   \n",
              "3  In 16th century Japan, Shinmen Takezou is a wi...   \n",
              "4  Kenzou Tenma, a renowned Japanese neurosurgeon...   \n",
              "\n",
              "                   Publish_period  \\\n",
              "0        Aug  25, 1989 to present   \n",
              "1  Jan  19, 2004 to Apr  19, 2011   \n",
              "2        Jul  22, 1997 to present   \n",
              "3   Sep  3, 1998 to May  21, 2015   \n",
              "4   Dec  5, 1994 to Dec  20, 2001   \n",
              "\n",
              "                                               Genre  \n",
              "0  Action', 'Adventure', 'Demons', 'Drama', 'Fant...  \n",
              "1  Action', 'Adventure', 'Mystery', 'Historical',...  \n",
              "2  Action', 'Adventure', 'Comedy', 'Fantasy', 'Sh...  \n",
              "3  Action', 'Adventure', 'Drama', 'Historical', '...  \n",
              "4       Mystery', 'Drama', 'Psychological', 'Seinen'  "
            ],
            "text/html": [
              "\n",
              "  <div id=\"df-74416907-f446-4aaf-bbd0-2986a09e1fd1\">\n",
              "    <div class=\"colab-df-container\">\n",
              "      <div>\n",
              "<style scoped>\n",
              "    .dataframe tbody tr th:only-of-type {\n",
              "        vertical-align: middle;\n",
              "    }\n",
              "\n",
              "    .dataframe tbody tr th {\n",
              "        vertical-align: top;\n",
              "    }\n",
              "\n",
              "    .dataframe thead th {\n",
              "        text-align: right;\n",
              "    }\n",
              "</style>\n",
              "<table border=\"1\" class=\"dataframe\">\n",
              "  <thead>\n",
              "    <tr style=\"text-align: right;\">\n",
              "      <th></th>\n",
              "      <th>Unnamed: 0</th>\n",
              "      <th>Title</th>\n",
              "      <th>Status</th>\n",
              "      <th>Volumes</th>\n",
              "      <th>Chapters</th>\n",
              "      <th>Rank</th>\n",
              "      <th>Score</th>\n",
              "      <th>Synopsis</th>\n",
              "      <th>Publish_period</th>\n",
              "      <th>Genre</th>\n",
              "    </tr>\n",
              "  </thead>\n",
              "  <tbody>\n",
              "    <tr>\n",
              "      <th>0</th>\n",
              "      <td>0</td>\n",
              "      <td>Berserk</td>\n",
              "      <td>Publishing</td>\n",
              "      <td>unkown</td>\n",
              "      <td>unkown</td>\n",
              "      <td>1</td>\n",
              "      <td>9.39</td>\n",
              "      <td>Guts, a former mercenary now known as the \"Bla...</td>\n",
              "      <td>Aug  25, 1989 to present</td>\n",
              "      <td>Action', 'Adventure', 'Demons', 'Drama', 'Fant...</td>\n",
              "    </tr>\n",
              "    <tr>\n",
              "      <th>1</th>\n",
              "      <td>1</td>\n",
              "      <td>JoJo no Kimyou na Bouken Part 7: Steel Ball Run</td>\n",
              "      <td>Finished</td>\n",
              "      <td>24.0</td>\n",
              "      <td>96.0</td>\n",
              "      <td>2</td>\n",
              "      <td>9.23</td>\n",
              "      <td>In the American Old West, the world's greatest...</td>\n",
              "      <td>Jan  19, 2004 to Apr  19, 2011</td>\n",
              "      <td>Action', 'Adventure', 'Mystery', 'Historical',...</td>\n",
              "    </tr>\n",
              "    <tr>\n",
              "      <th>2</th>\n",
              "      <td>2</td>\n",
              "      <td>One Piece</td>\n",
              "      <td>Publishing</td>\n",
              "      <td>unkown</td>\n",
              "      <td>unkown</td>\n",
              "      <td>3</td>\n",
              "      <td>9.15</td>\n",
              "      <td>Gol D. Roger, a man referred to as the \"Pirate...</td>\n",
              "      <td>Jul  22, 1997 to present</td>\n",
              "      <td>Action', 'Adventure', 'Comedy', 'Fantasy', 'Sh...</td>\n",
              "    </tr>\n",
              "    <tr>\n",
              "      <th>3</th>\n",
              "      <td>3</td>\n",
              "      <td>Vagabond</td>\n",
              "      <td>On Hiatus</td>\n",
              "      <td>37.0</td>\n",
              "      <td>327.0</td>\n",
              "      <td>4</td>\n",
              "      <td>9.13</td>\n",
              "      <td>In 16th century Japan, Shinmen Takezou is a wi...</td>\n",
              "      <td>Sep  3, 1998 to May  21, 2015</td>\n",
              "      <td>Action', 'Adventure', 'Drama', 'Historical', '...</td>\n",
              "    </tr>\n",
              "    <tr>\n",
              "      <th>4</th>\n",
              "      <td>4</td>\n",
              "      <td>Monster</td>\n",
              "      <td>Finished</td>\n",
              "      <td>18.0</td>\n",
              "      <td>162.0</td>\n",
              "      <td>5</td>\n",
              "      <td>9.10</td>\n",
              "      <td>Kenzou Tenma, a renowned Japanese neurosurgeon...</td>\n",
              "      <td>Dec  5, 1994 to Dec  20, 2001</td>\n",
              "      <td>Mystery', 'Drama', 'Psychological', 'Seinen'</td>\n",
              "    </tr>\n",
              "  </tbody>\n",
              "</table>\n",
              "</div>\n",
              "      <button class=\"colab-df-convert\" onclick=\"convertToInteractive('df-74416907-f446-4aaf-bbd0-2986a09e1fd1')\"\n",
              "              title=\"Convert this dataframe to an interactive table.\"\n",
              "              style=\"display:none;\">\n",
              "        \n",
              "  <svg xmlns=\"http://www.w3.org/2000/svg\" height=\"24px\"viewBox=\"0 0 24 24\"\n",
              "       width=\"24px\">\n",
              "    <path d=\"M0 0h24v24H0V0z\" fill=\"none\"/>\n",
              "    <path d=\"M18.56 5.44l.94 2.06.94-2.06 2.06-.94-2.06-.94-.94-2.06-.94 2.06-2.06.94zm-11 1L8.5 8.5l.94-2.06 2.06-.94-2.06-.94L8.5 2.5l-.94 2.06-2.06.94zm10 10l.94 2.06.94-2.06 2.06-.94-2.06-.94-.94-2.06-.94 2.06-2.06.94z\"/><path d=\"M17.41 7.96l-1.37-1.37c-.4-.4-.92-.59-1.43-.59-.52 0-1.04.2-1.43.59L10.3 9.45l-7.72 7.72c-.78.78-.78 2.05 0 2.83L4 21.41c.39.39.9.59 1.41.59.51 0 1.02-.2 1.41-.59l7.78-7.78 2.81-2.81c.8-.78.8-2.07 0-2.86zM5.41 20L4 18.59l7.72-7.72 1.47 1.35L5.41 20z\"/>\n",
              "  </svg>\n",
              "      </button>\n",
              "      \n",
              "  <style>\n",
              "    .colab-df-container {\n",
              "      display:flex;\n",
              "      flex-wrap:wrap;\n",
              "      gap: 12px;\n",
              "    }\n",
              "\n",
              "    .colab-df-convert {\n",
              "      background-color: #E8F0FE;\n",
              "      border: none;\n",
              "      border-radius: 50%;\n",
              "      cursor: pointer;\n",
              "      display: none;\n",
              "      fill: #1967D2;\n",
              "      height: 32px;\n",
              "      padding: 0 0 0 0;\n",
              "      width: 32px;\n",
              "    }\n",
              "\n",
              "    .colab-df-convert:hover {\n",
              "      background-color: #E2EBFA;\n",
              "      box-shadow: 0px 1px 2px rgba(60, 64, 67, 0.3), 0px 1px 3px 1px rgba(60, 64, 67, 0.15);\n",
              "      fill: #174EA6;\n",
              "    }\n",
              "\n",
              "    [theme=dark] .colab-df-convert {\n",
              "      background-color: #3B4455;\n",
              "      fill: #D2E3FC;\n",
              "    }\n",
              "\n",
              "    [theme=dark] .colab-df-convert:hover {\n",
              "      background-color: #434B5C;\n",
              "      box-shadow: 0px 1px 3px 1px rgba(0, 0, 0, 0.15);\n",
              "      filter: drop-shadow(0px 1px 2px rgba(0, 0, 0, 0.3));\n",
              "      fill: #FFFFFF;\n",
              "    }\n",
              "  </style>\n",
              "\n",
              "      <script>\n",
              "        const buttonEl =\n",
              "          document.querySelector('#df-74416907-f446-4aaf-bbd0-2986a09e1fd1 button.colab-df-convert');\n",
              "        buttonEl.style.display =\n",
              "          google.colab.kernel.accessAllowed ? 'block' : 'none';\n",
              "\n",
              "        async function convertToInteractive(key) {\n",
              "          const element = document.querySelector('#df-74416907-f446-4aaf-bbd0-2986a09e1fd1');\n",
              "          const dataTable =\n",
              "            await google.colab.kernel.invokeFunction('convertToInteractive',\n",
              "                                                     [key], {});\n",
              "          if (!dataTable) return;\n",
              "\n",
              "          const docLinkHtml = 'Like what you see? Visit the ' +\n",
              "            '<a target=\"_blank\" href=https://colab.research.google.com/notebooks/data_table.ipynb>data table notebook</a>'\n",
              "            + ' to learn more about interactive tables.';\n",
              "          element.innerHTML = '';\n",
              "          dataTable['output_type'] = 'display_data';\n",
              "          await google.colab.output.renderOutput(dataTable, element);\n",
              "          const docLink = document.createElement('div');\n",
              "          docLink.innerHTML = docLinkHtml;\n",
              "          element.appendChild(docLink);\n",
              "        }\n",
              "      </script>\n",
              "    </div>\n",
              "  </div>\n",
              "  "
            ]
          },
          "metadata": {},
          "execution_count": 12
        }
      ]
    },
    {
      "cell_type": "markdown",
      "source": [
        "## Data preprocessing"
      ],
      "metadata": {
        "id": "-Z4dacUNpo9l"
      }
    },
    {
      "cell_type": "code",
      "execution_count": 15,
      "metadata": {
        "id": "aLQZbUNlMeTp"
      },
      "outputs": [],
      "source": [
        "#genre cleaning\n",
        "def Genre_token(Genre):\n",
        "   return Genre.split(' ')"
      ]
    },
    {
      "cell_type": "code",
      "source": [
        "tf_vectorizer = TfidfVectorizer(tokenizer=Genre_token, token_pattern=None) \n",
        "tf_vectorizer.fit(df['Genre']) \n",
        "tf_vectorizer.get_feature_names_out()"
      ],
      "metadata": {
        "id": "Im_fMwHEqkWX",
        "colab": {
          "base_uri": "https://localhost:8080/"
        },
        "outputId": "6ca2dc58-5332-4b55-e70a-72e770d3341c"
      },
      "execution_count": 16,
      "outputs": [
        {
          "output_type": "execute_result",
          "data": {
            "text/plain": [
              "array([\"'adventure',\", \"'cars',\", \"'comedy',\", \"'demons',\", \"'drama'\",\n",
              "       \"'drama',\", \"'ecchi',\", \"'fantasy'\", \"'fantasy',\", \"'game'\",\n",
              "       \"'game',\", \"'gender\", \"'harem'\", \"'harem',\", \"'historical'\",\n",
              "       \"'historical',\", \"'horror'\", \"'horror',\", \"'josei'\", \"'josei',\",\n",
              "       \"'kids'\", \"'kids',\", \"'magic'\", \"'magic',\", \"'martial\", \"'mecha',\",\n",
              "       \"'military'\", \"'military',\", \"'music',\", \"'mystery',\", \"'parody',\",\n",
              "       \"'police'\", \"'police',\", \"'psychological'\", \"'psychological',\",\n",
              "       \"'romance'\", \"'romance',\", \"'samurai'\", \"'samurai',\", \"'school'\",\n",
              "       \"'school',\", \"'sci-fi'\", \"'sci-fi',\", \"'seinen'\", \"'seinen',\",\n",
              "       \"'shoujo\", \"'shoujo'\", \"'shoujo',\", \"'shounen\", \"'shounen'\",\n",
              "       \"'shounen',\", \"'slice\", \"'space'\", \"'space',\", \"'sports'\",\n",
              "       \"'sports',\", \"'super\", \"'supernatural'\", \"'supernatural',\",\n",
              "       \"'thriller'\", \"'vampire'\", \"'vampire',\", \"action',\", \"adventure',\",\n",
              "       \"ai'\", \"ai',\", \"arts'\", \"arts',\", \"bender'\", \"comedy'\", \"comedy',\",\n",
              "       \"dementia',\", \"demons',\", \"drama'\", \"drama',\", \"ecchi',\",\n",
              "       \"fantasy'\", \"fantasy',\", \"game',\", \"historical'\", \"historical',\",\n",
              "       \"josei'\", \"life'\", \"life',\", \"magic',\", \"mecha',\", \"music',\",\n",
              "       \"mystery'\", \"mystery',\", 'of', \"power'\", \"power',\", \"romance'\",\n",
              "       \"romance',\", \"school',\", \"sci-fi',\", \"seinen'\", 'shoujo',\n",
              "       \"shoujo'\", \"shoujo',\", 'shounen', \"shounen'\", \"shounen',\", 'slice',\n",
              "       \"sports',\", \"supernatural'\", \"supernatural',\"], dtype=object)"
            ]
          },
          "metadata": {},
          "execution_count": 16
        }
      ]
    },
    {
      "cell_type": "code",
      "execution_count": 17,
      "metadata": {
        "scrolled": false,
        "id": "2iJFuIoRMeTs"
      },
      "outputs": [],
      "source": [
        "tfidf_matrix = tf_vectorizer.fit_transform(df['Genre'])"
      ]
    },
    {
      "cell_type": "code",
      "execution_count": 18,
      "metadata": {
        "scrolled": false,
        "id": "hI7dCHcRteR4",
        "colab": {
          "base_uri": "https://localhost:8080/"
        },
        "outputId": "4192ab9d-1d39-4df7-cca2-bda12ef45462"
      },
      "outputs": [
        {
          "output_type": "execute_result",
          "data": {
            "text/plain": [
              "array([[1.        , 0.46252832, 0.2200812 , ..., 0.07099688, 0.        ,\n",
              "        0.        ],\n",
              "       [0.46252832, 1.        , 0.28663895, ..., 0.13190594, 0.        ,\n",
              "        0.        ],\n",
              "       [0.2200812 , 0.28663895, 1.        , ..., 0.12994014, 0.        ,\n",
              "        0.        ],\n",
              "       ...,\n",
              "       [0.07099688, 0.13190594, 0.12994014, ..., 1.        , 0.14520946,\n",
              "        0.        ],\n",
              "       [0.        , 0.        , 0.        , ..., 0.14520946, 1.        ,\n",
              "        0.        ],\n",
              "       [0.        , 0.        , 0.        , ..., 0.        , 0.        ,\n",
              "        1.        ]])"
            ]
          },
          "metadata": {},
          "execution_count": 18
        }
      ],
      "source": [
        "cos_sim = cosine_similarity(tfidf_matrix, tfidf_matrix)\n",
        "cos_sim"
      ]
    },
    {
      "cell_type": "code",
      "source": [
        "cos_sim_df = pd.DataFrame(cos_sim, index=df['Title'], columns=df['Title']) \n",
        "print('Shape:', cos_sim_df.shape)\n",
        "cos_sim_df.sample(5, axis=1).sample(10, axis=0)"
      ],
      "metadata": {
        "id": "RY95lNs7rurf",
        "colab": {
          "base_uri": "https://localhost:8080/",
          "height": 491
        },
        "outputId": "58cf759f-12a9-495c-b81a-50ea925d745a"
      },
      "execution_count": 19,
      "outputs": [
        {
          "output_type": "stream",
          "name": "stdout",
          "text": [
            "Shape: (936, 936)\n"
          ]
        },
        {
          "output_type": "execute_result",
          "data": {
            "text/plain": [
              "Title                                            Ouran Koukou Host Club  \\\n",
              "Title                                                                     \n",
              "Pocket Monsters Special                                        0.000000   \n",
              "Darker than Black: Shikkoku no Hana                            0.000000   \n",
              "Yamato Nadeshiko Shichihenge♥                                  0.290931   \n",
              "God Child                                                      0.000000   \n",
              "Saenai Heroine no Sodatekata: Koisuru Metronome                0.324704   \n",
              "Jujutsu Kaisen                                                 0.000000   \n",
              "Umineko no Naku Koro ni                                        0.000000   \n",
              "Hirunaka no Ryuusei                                            0.323019   \n",
              "Oomuro-ke                                                      0.178808   \n",
              "Yotsuba to!                                                    0.144743   \n",
              "\n",
              "Title                                            Higurashi WHEN THEY CRY: Demon Exposing Arc  \\\n",
              "Title                                                                                          \n",
              "Pocket Monsters Special                                                             0.000000   \n",
              "Darker than Black: Shikkoku no Hana                                                 0.089416   \n",
              "Yamato Nadeshiko Shichihenge♥                                                       0.000000   \n",
              "God Child                                                                           0.390978   \n",
              "Saenai Heroine no Sodatekata: Koisuru Metronome                                     0.170392   \n",
              "Jujutsu Kaisen                                                                      0.000000   \n",
              "Umineko no Naku Koro ni                                                             0.406502   \n",
              "Hirunaka no Ryuusei                                                                 0.000000   \n",
              "Oomuro-ke                                                                           0.000000   \n",
              "Yotsuba to!                                                                         0.000000   \n",
              "\n",
              "Title                                            Shoulder a Coffin Kuro  \\\n",
              "Title                                                                     \n",
              "Pocket Monsters Special                                             0.0   \n",
              "Darker than Black: Shikkoku no Hana                                 0.0   \n",
              "Yamato Nadeshiko Shichihenge♥                                       0.0   \n",
              "God Child                                                           0.0   \n",
              "Saenai Heroine no Sodatekata: Koisuru Metronome                     0.0   \n",
              "Jujutsu Kaisen                                                      0.0   \n",
              "Umineko no Naku Koro ni                                             0.0   \n",
              "Hirunaka no Ryuusei                                                 0.0   \n",
              "Oomuro-ke                                                           0.0   \n",
              "Yotsuba to!                                                         0.0   \n",
              "\n",
              "Title                                            Parasyte  \\\n",
              "Title                                                       \n",
              "Pocket Monsters Special                          0.081259   \n",
              "Darker than Black: Shikkoku no Hana              0.410066   \n",
              "Yamato Nadeshiko Shichihenge♥                    0.000000   \n",
              "God Child                                        0.174960   \n",
              "Saenai Heroine no Sodatekata: Koisuru Metronome  0.335480   \n",
              "Jujutsu Kaisen                                   0.093399   \n",
              "Umineko no Naku Koro ni                          0.388429   \n",
              "Hirunaka no Ryuusei                              0.000000   \n",
              "Oomuro-ke                                        0.000000   \n",
              "Yotsuba to!                                      0.000000   \n",
              "\n",
              "Title                                            Hachimitsu to Clover  \n",
              "Title                                                                  \n",
              "Pocket Monsters Special                                      0.000000  \n",
              "Darker than Black: Shikkoku no Hana                          0.074171  \n",
              "Yamato Nadeshiko Shichihenge♥                                0.120437  \n",
              "God Child                                                    0.000000  \n",
              "Saenai Heroine no Sodatekata: Koisuru Metronome              0.429314  \n",
              "Jujutsu Kaisen                                               0.000000  \n",
              "Umineko no Naku Koro ni                                      0.000000  \n",
              "Hirunaka no Ryuusei                                          0.445070  \n",
              "Oomuro-ke                                                    0.285225  \n",
              "Yotsuba to!                                                  0.467014  "
            ],
            "text/html": [
              "\n",
              "  <div id=\"df-39f13887-17b4-4dd7-b483-c948ca5c6cf5\">\n",
              "    <div class=\"colab-df-container\">\n",
              "      <div>\n",
              "<style scoped>\n",
              "    .dataframe tbody tr th:only-of-type {\n",
              "        vertical-align: middle;\n",
              "    }\n",
              "\n",
              "    .dataframe tbody tr th {\n",
              "        vertical-align: top;\n",
              "    }\n",
              "\n",
              "    .dataframe thead th {\n",
              "        text-align: right;\n",
              "    }\n",
              "</style>\n",
              "<table border=\"1\" class=\"dataframe\">\n",
              "  <thead>\n",
              "    <tr style=\"text-align: right;\">\n",
              "      <th>Title</th>\n",
              "      <th>Ouran Koukou Host Club</th>\n",
              "      <th>Higurashi WHEN THEY CRY: Demon Exposing Arc</th>\n",
              "      <th>Shoulder a Coffin Kuro</th>\n",
              "      <th>Parasyte</th>\n",
              "      <th>Hachimitsu to Clover</th>\n",
              "    </tr>\n",
              "    <tr>\n",
              "      <th>Title</th>\n",
              "      <th></th>\n",
              "      <th></th>\n",
              "      <th></th>\n",
              "      <th></th>\n",
              "      <th></th>\n",
              "    </tr>\n",
              "  </thead>\n",
              "  <tbody>\n",
              "    <tr>\n",
              "      <th>Pocket Monsters Special</th>\n",
              "      <td>0.000000</td>\n",
              "      <td>0.000000</td>\n",
              "      <td>0.0</td>\n",
              "      <td>0.081259</td>\n",
              "      <td>0.000000</td>\n",
              "    </tr>\n",
              "    <tr>\n",
              "      <th>Darker than Black: Shikkoku no Hana</th>\n",
              "      <td>0.000000</td>\n",
              "      <td>0.089416</td>\n",
              "      <td>0.0</td>\n",
              "      <td>0.410066</td>\n",
              "      <td>0.074171</td>\n",
              "    </tr>\n",
              "    <tr>\n",
              "      <th>Yamato Nadeshiko Shichihenge♥</th>\n",
              "      <td>0.290931</td>\n",
              "      <td>0.000000</td>\n",
              "      <td>0.0</td>\n",
              "      <td>0.000000</td>\n",
              "      <td>0.120437</td>\n",
              "    </tr>\n",
              "    <tr>\n",
              "      <th>God Child</th>\n",
              "      <td>0.000000</td>\n",
              "      <td>0.390978</td>\n",
              "      <td>0.0</td>\n",
              "      <td>0.174960</td>\n",
              "      <td>0.000000</td>\n",
              "    </tr>\n",
              "    <tr>\n",
              "      <th>Saenai Heroine no Sodatekata: Koisuru Metronome</th>\n",
              "      <td>0.324704</td>\n",
              "      <td>0.170392</td>\n",
              "      <td>0.0</td>\n",
              "      <td>0.335480</td>\n",
              "      <td>0.429314</td>\n",
              "    </tr>\n",
              "    <tr>\n",
              "      <th>Jujutsu Kaisen</th>\n",
              "      <td>0.000000</td>\n",
              "      <td>0.000000</td>\n",
              "      <td>0.0</td>\n",
              "      <td>0.093399</td>\n",
              "      <td>0.000000</td>\n",
              "    </tr>\n",
              "    <tr>\n",
              "      <th>Umineko no Naku Koro ni</th>\n",
              "      <td>0.000000</td>\n",
              "      <td>0.406502</td>\n",
              "      <td>0.0</td>\n",
              "      <td>0.388429</td>\n",
              "      <td>0.000000</td>\n",
              "    </tr>\n",
              "    <tr>\n",
              "      <th>Hirunaka no Ryuusei</th>\n",
              "      <td>0.323019</td>\n",
              "      <td>0.000000</td>\n",
              "      <td>0.0</td>\n",
              "      <td>0.000000</td>\n",
              "      <td>0.445070</td>\n",
              "    </tr>\n",
              "    <tr>\n",
              "      <th>Oomuro-ke</th>\n",
              "      <td>0.178808</td>\n",
              "      <td>0.000000</td>\n",
              "      <td>0.0</td>\n",
              "      <td>0.000000</td>\n",
              "      <td>0.285225</td>\n",
              "    </tr>\n",
              "    <tr>\n",
              "      <th>Yotsuba to!</th>\n",
              "      <td>0.144743</td>\n",
              "      <td>0.000000</td>\n",
              "      <td>0.0</td>\n",
              "      <td>0.000000</td>\n",
              "      <td>0.467014</td>\n",
              "    </tr>\n",
              "  </tbody>\n",
              "</table>\n",
              "</div>\n",
              "      <button class=\"colab-df-convert\" onclick=\"convertToInteractive('df-39f13887-17b4-4dd7-b483-c948ca5c6cf5')\"\n",
              "              title=\"Convert this dataframe to an interactive table.\"\n",
              "              style=\"display:none;\">\n",
              "        \n",
              "  <svg xmlns=\"http://www.w3.org/2000/svg\" height=\"24px\"viewBox=\"0 0 24 24\"\n",
              "       width=\"24px\">\n",
              "    <path d=\"M0 0h24v24H0V0z\" fill=\"none\"/>\n",
              "    <path d=\"M18.56 5.44l.94 2.06.94-2.06 2.06-.94-2.06-.94-.94-2.06-.94 2.06-2.06.94zm-11 1L8.5 8.5l.94-2.06 2.06-.94-2.06-.94L8.5 2.5l-.94 2.06-2.06.94zm10 10l.94 2.06.94-2.06 2.06-.94-2.06-.94-.94-2.06-.94 2.06-2.06.94z\"/><path d=\"M17.41 7.96l-1.37-1.37c-.4-.4-.92-.59-1.43-.59-.52 0-1.04.2-1.43.59L10.3 9.45l-7.72 7.72c-.78.78-.78 2.05 0 2.83L4 21.41c.39.39.9.59 1.41.59.51 0 1.02-.2 1.41-.59l7.78-7.78 2.81-2.81c.8-.78.8-2.07 0-2.86zM5.41 20L4 18.59l7.72-7.72 1.47 1.35L5.41 20z\"/>\n",
              "  </svg>\n",
              "      </button>\n",
              "      \n",
              "  <style>\n",
              "    .colab-df-container {\n",
              "      display:flex;\n",
              "      flex-wrap:wrap;\n",
              "      gap: 12px;\n",
              "    }\n",
              "\n",
              "    .colab-df-convert {\n",
              "      background-color: #E8F0FE;\n",
              "      border: none;\n",
              "      border-radius: 50%;\n",
              "      cursor: pointer;\n",
              "      display: none;\n",
              "      fill: #1967D2;\n",
              "      height: 32px;\n",
              "      padding: 0 0 0 0;\n",
              "      width: 32px;\n",
              "    }\n",
              "\n",
              "    .colab-df-convert:hover {\n",
              "      background-color: #E2EBFA;\n",
              "      box-shadow: 0px 1px 2px rgba(60, 64, 67, 0.3), 0px 1px 3px 1px rgba(60, 64, 67, 0.15);\n",
              "      fill: #174EA6;\n",
              "    }\n",
              "\n",
              "    [theme=dark] .colab-df-convert {\n",
              "      background-color: #3B4455;\n",
              "      fill: #D2E3FC;\n",
              "    }\n",
              "\n",
              "    [theme=dark] .colab-df-convert:hover {\n",
              "      background-color: #434B5C;\n",
              "      box-shadow: 0px 1px 3px 1px rgba(0, 0, 0, 0.15);\n",
              "      filter: drop-shadow(0px 1px 2px rgba(0, 0, 0, 0.3));\n",
              "      fill: #FFFFFF;\n",
              "    }\n",
              "  </style>\n",
              "\n",
              "      <script>\n",
              "        const buttonEl =\n",
              "          document.querySelector('#df-39f13887-17b4-4dd7-b483-c948ca5c6cf5 button.colab-df-convert');\n",
              "        buttonEl.style.display =\n",
              "          google.colab.kernel.accessAllowed ? 'block' : 'none';\n",
              "\n",
              "        async function convertToInteractive(key) {\n",
              "          const element = document.querySelector('#df-39f13887-17b4-4dd7-b483-c948ca5c6cf5');\n",
              "          const dataTable =\n",
              "            await google.colab.kernel.invokeFunction('convertToInteractive',\n",
              "                                                     [key], {});\n",
              "          if (!dataTable) return;\n",
              "\n",
              "          const docLinkHtml = 'Like what you see? Visit the ' +\n",
              "            '<a target=\"_blank\" href=https://colab.research.google.com/notebooks/data_table.ipynb>data table notebook</a>'\n",
              "            + ' to learn more about interactive tables.';\n",
              "          element.innerHTML = '';\n",
              "          dataTable['output_type'] = 'display_data';\n",
              "          await google.colab.output.renderOutput(dataTable, element);\n",
              "          const docLink = document.createElement('div');\n",
              "          docLink.innerHTML = docLinkHtml;\n",
              "          element.appendChild(docLink);\n",
              "        }\n",
              "      </script>\n",
              "    </div>\n",
              "  </div>\n",
              "  "
            ]
          },
          "metadata": {},
          "execution_count": 19
        }
      ]
    },
    {
      "cell_type": "code",
      "execution_count": 20,
      "metadata": {
        "id": "dUj-kNamMeTs",
        "colab": {
          "base_uri": "https://localhost:8080/"
        },
        "outputId": "fdae47c0-110d-4cc9-9716-3454c0601338"
      },
      "outputs": [
        {
          "output_type": "execute_result",
          "data": {
            "text/plain": [
              "0                                               Berserk\n",
              "1       JoJo no Kimyou na Bouken Part 7: Steel Ball Run\n",
              "2                                             One Piece\n",
              "3                                              Vagabond\n",
              "4                                               Monster\n",
              "5                                   Fullmetal Alchemist\n",
              "6                                        Oyasumi Punpun\n",
              "7                                            Grand Blue\n",
              "8                                             Slam Dunk\n",
              "9                                               Kingdom\n",
              "10                      Monogatari Series: First Season\n",
              "11                                         Vinland Saga\n",
              "12                                    20th Century Boys\n",
              "13    Kaguya-sama wa Kokurasetai: Tensai-tachi no Re...\n",
              "14                                        Ashita no Joe\n",
              "15                     Monogatari Series: Second Season\n",
              "16                                            Haikyuu!!\n",
              "17                                                  GTO\n",
              "18                                      3-gatsu no Lion\n",
              "19                                      Houseki no Kuni\n",
              "Name: Title, dtype: object"
            ]
          },
          "metadata": {},
          "execution_count": 20
        }
      ],
      "source": [
        "indices = pd.Series(df['Title'])\n",
        "indices[:20]"
      ]
    },
    {
      "cell_type": "code",
      "execution_count": 25,
      "metadata": {
        "id": "uiTi2W2nMeTt"
      },
      "outputs": [],
      "source": [
        "def recommendations(Title, cos_sim = cos_sim):\n",
        "    recommended_manga = []\n",
        "    idx = indices[indices == Title].index[0]\n",
        "    score = pd.Series(cos_sim[idx]).sort_values(ascending = False)\n",
        "    top10 = list(score.iloc[1:11].index)\n",
        "    for i in top10:\n",
        "      recommended_manga.append(list(df['Title'])[i])\n",
        "    return recommended_manga"
      ]
    },
    {
      "cell_type": "code",
      "execution_count": 26,
      "metadata": {
        "id": "Y8u52Jc0MeTt",
        "colab": {
          "base_uri": "https://localhost:8080/"
        },
        "outputId": "18a7a574-72d0-4d39-f50a-0a5d9ebc561c"
      },
      "outputs": [
        {
          "name": "stdout",
          "output_type": "stream",
          "text": [
            "Input judul manga: Naruto\n"
          ]
        },
        {
          "output_type": "execute_result",
          "data": {
            "text/plain": [
              "['Naruto Shinden Series',\n",
              " 'Dragon Ball',\n",
              " 'Hajishirazu no Purple Haze: JoJo no Kimyou na Bouken yori',\n",
              " 'Hunter x Hunter',\n",
              " 'One Piece',\n",
              " 'One Piece: Episode A',\n",
              " 'One Piece: Strong World',\n",
              " 'One Piece Novel: A',\n",
              " 'D.Gray-man',\n",
              " 'Gekijouban One Piece: Stampede']"
            ]
          },
          "metadata": {},
          "execution_count": 26
        }
      ],
      "source": [
        "manga = (input('Input judul manga: '))\n",
        "recommendations(manga)"
      ]
    }
  ]
}