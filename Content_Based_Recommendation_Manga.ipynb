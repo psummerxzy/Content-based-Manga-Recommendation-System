{
  "nbformat": 4,
  "nbformat_minor": 0,
  "metadata": {
    "colab": {
      "provenance": [],
      "include_colab_link": true
    },
    "kernelspec": {
      "name": "python3",
      "display_name": "Python 3"
    },
    "language_info": {
      "name": "python"
    }
  },
  "cells": [
    {
      "cell_type": "markdown",
      "metadata": {
        "id": "view-in-github",
        "colab_type": "text"
      },
      "source": [
        "<a href=\"https://colab.research.google.com/github/psummerxzy/Content-based-Manga-Recommendation-System/blob/main/Content_Based_Recommendation_Manga.ipynb\" target=\"_parent\"><img src=\"https://colab.research.google.com/assets/colab-badge.svg\" alt=\"Open In Colab\"/></a>"
      ]
    },
    {
      "cell_type": "code",
      "source": [
        "import pandas as pd\n",
        "import numpy as np\n",
        "from sklearn.metrics.pairwise import cosine_similarity\n",
        "from sklearn.feature_extraction.text import TfidfVectorizer\n",
        "import nltk\n",
        "from nltk.tokenize import word_tokenize\n",
        "import re\n",
        "import random\n",
        "import pdb\n",
        "\n",
        "df = pd.read_csv('/content/sample_data/Dataset Manga.csv')\n",
        "df.head()"
      ],
      "metadata": {
        "id": "Q2EppIXa2Zrc",
        "colab": {
          "base_uri": "https://localhost:8080/",
          "height": 372
        },
        "outputId": "a7e8bb4d-d5b5-46a5-ae38-e9978b7e3ea5"
      },
      "execution_count": null,
      "outputs": [
        {
          "output_type": "execute_result",
          "data": {
            "text/plain": [
              "   Unnamed: 0                                            Title      Status  \\\n",
              "0           0                                          Berserk  Publishing   \n",
              "1           1  JoJo no Kimyou na Bouken Part 7: Steel Ball Run    Finished   \n",
              "2           2                                        One Piece  Publishing   \n",
              "3           3                                         Vagabond   On Hiatus   \n",
              "4           4                                          Monster    Finished   \n",
              "\n",
              "  Volumes Chapters  Rank  Score  \\\n",
              "0  unkown   unkown     1   9.39   \n",
              "1    24.0     96.0     2   9.23   \n",
              "2  unkown   unkown     3   9.15   \n",
              "3    37.0    327.0     4   9.13   \n",
              "4    18.0    162.0     5   9.10   \n",
              "\n",
              "                                            Synopsis  \\\n",
              "0  Guts, a former mercenary now known as the \"Bla...   \n",
              "1  In the American Old West, the world's greatest...   \n",
              "2  Gol D. Roger, a man referred to as the \"Pirate...   \n",
              "3  In 16th century Japan, Shinmen Takezou is a wi...   \n",
              "4  Kenzou Tenma, a renowned Japanese neurosurgeon...   \n",
              "\n",
              "                   Publish_period  \\\n",
              "0        Aug  25, 1989 to present   \n",
              "1  Jan  19, 2004 to Apr  19, 2011   \n",
              "2        Jul  22, 1997 to present   \n",
              "3   Sep  3, 1998 to May  21, 2015   \n",
              "4   Dec  5, 1994 to Dec  20, 2001   \n",
              "\n",
              "                                               Genre  \n",
              "0  Action', 'Adventure', 'Demons', 'Drama', 'Fant...  \n",
              "1  Action', 'Adventure', 'Mystery', 'Historical',...  \n",
              "2  Action', 'Adventure', 'Comedy', 'Fantasy', 'Sh...  \n",
              "3  Action', 'Adventure', 'Drama', 'Historical', '...  \n",
              "4       Mystery', 'Drama', 'Psychological', 'Seinen'  "
            ],
            "text/html": [
              "\n",
              "  <div id=\"df-e79f7387-0b67-4a5b-85f5-230330adbb51\">\n",
              "    <div class=\"colab-df-container\">\n",
              "      <div>\n",
              "<style scoped>\n",
              "    .dataframe tbody tr th:only-of-type {\n",
              "        vertical-align: middle;\n",
              "    }\n",
              "\n",
              "    .dataframe tbody tr th {\n",
              "        vertical-align: top;\n",
              "    }\n",
              "\n",
              "    .dataframe thead th {\n",
              "        text-align: right;\n",
              "    }\n",
              "</style>\n",
              "<table border=\"1\" class=\"dataframe\">\n",
              "  <thead>\n",
              "    <tr style=\"text-align: right;\">\n",
              "      <th></th>\n",
              "      <th>Unnamed: 0</th>\n",
              "      <th>Title</th>\n",
              "      <th>Status</th>\n",
              "      <th>Volumes</th>\n",
              "      <th>Chapters</th>\n",
              "      <th>Rank</th>\n",
              "      <th>Score</th>\n",
              "      <th>Synopsis</th>\n",
              "      <th>Publish_period</th>\n",
              "      <th>Genre</th>\n",
              "    </tr>\n",
              "  </thead>\n",
              "  <tbody>\n",
              "    <tr>\n",
              "      <th>0</th>\n",
              "      <td>0</td>\n",
              "      <td>Berserk</td>\n",
              "      <td>Publishing</td>\n",
              "      <td>unkown</td>\n",
              "      <td>unkown</td>\n",
              "      <td>1</td>\n",
              "      <td>9.39</td>\n",
              "      <td>Guts, a former mercenary now known as the \"Bla...</td>\n",
              "      <td>Aug  25, 1989 to present</td>\n",
              "      <td>Action', 'Adventure', 'Demons', 'Drama', 'Fant...</td>\n",
              "    </tr>\n",
              "    <tr>\n",
              "      <th>1</th>\n",
              "      <td>1</td>\n",
              "      <td>JoJo no Kimyou na Bouken Part 7: Steel Ball Run</td>\n",
              "      <td>Finished</td>\n",
              "      <td>24.0</td>\n",
              "      <td>96.0</td>\n",
              "      <td>2</td>\n",
              "      <td>9.23</td>\n",
              "      <td>In the American Old West, the world's greatest...</td>\n",
              "      <td>Jan  19, 2004 to Apr  19, 2011</td>\n",
              "      <td>Action', 'Adventure', 'Mystery', 'Historical',...</td>\n",
              "    </tr>\n",
              "    <tr>\n",
              "      <th>2</th>\n",
              "      <td>2</td>\n",
              "      <td>One Piece</td>\n",
              "      <td>Publishing</td>\n",
              "      <td>unkown</td>\n",
              "      <td>unkown</td>\n",
              "      <td>3</td>\n",
              "      <td>9.15</td>\n",
              "      <td>Gol D. Roger, a man referred to as the \"Pirate...</td>\n",
              "      <td>Jul  22, 1997 to present</td>\n",
              "      <td>Action', 'Adventure', 'Comedy', 'Fantasy', 'Sh...</td>\n",
              "    </tr>\n",
              "    <tr>\n",
              "      <th>3</th>\n",
              "      <td>3</td>\n",
              "      <td>Vagabond</td>\n",
              "      <td>On Hiatus</td>\n",
              "      <td>37.0</td>\n",
              "      <td>327.0</td>\n",
              "      <td>4</td>\n",
              "      <td>9.13</td>\n",
              "      <td>In 16th century Japan, Shinmen Takezou is a wi...</td>\n",
              "      <td>Sep  3, 1998 to May  21, 2015</td>\n",
              "      <td>Action', 'Adventure', 'Drama', 'Historical', '...</td>\n",
              "    </tr>\n",
              "    <tr>\n",
              "      <th>4</th>\n",
              "      <td>4</td>\n",
              "      <td>Monster</td>\n",
              "      <td>Finished</td>\n",
              "      <td>18.0</td>\n",
              "      <td>162.0</td>\n",
              "      <td>5</td>\n",
              "      <td>9.10</td>\n",
              "      <td>Kenzou Tenma, a renowned Japanese neurosurgeon...</td>\n",
              "      <td>Dec  5, 1994 to Dec  20, 2001</td>\n",
              "      <td>Mystery', 'Drama', 'Psychological', 'Seinen'</td>\n",
              "    </tr>\n",
              "  </tbody>\n",
              "</table>\n",
              "</div>\n",
              "      <button class=\"colab-df-convert\" onclick=\"convertToInteractive('df-e79f7387-0b67-4a5b-85f5-230330adbb51')\"\n",
              "              title=\"Convert this dataframe to an interactive table.\"\n",
              "              style=\"display:none;\">\n",
              "        \n",
              "  <svg xmlns=\"http://www.w3.org/2000/svg\" height=\"24px\"viewBox=\"0 0 24 24\"\n",
              "       width=\"24px\">\n",
              "    <path d=\"M0 0h24v24H0V0z\" fill=\"none\"/>\n",
              "    <path d=\"M18.56 5.44l.94 2.06.94-2.06 2.06-.94-2.06-.94-.94-2.06-.94 2.06-2.06.94zm-11 1L8.5 8.5l.94-2.06 2.06-.94-2.06-.94L8.5 2.5l-.94 2.06-2.06.94zm10 10l.94 2.06.94-2.06 2.06-.94-2.06-.94-.94-2.06-.94 2.06-2.06.94z\"/><path d=\"M17.41 7.96l-1.37-1.37c-.4-.4-.92-.59-1.43-.59-.52 0-1.04.2-1.43.59L10.3 9.45l-7.72 7.72c-.78.78-.78 2.05 0 2.83L4 21.41c.39.39.9.59 1.41.59.51 0 1.02-.2 1.41-.59l7.78-7.78 2.81-2.81c.8-.78.8-2.07 0-2.86zM5.41 20L4 18.59l7.72-7.72 1.47 1.35L5.41 20z\"/>\n",
              "  </svg>\n",
              "      </button>\n",
              "      \n",
              "  <style>\n",
              "    .colab-df-container {\n",
              "      display:flex;\n",
              "      flex-wrap:wrap;\n",
              "      gap: 12px;\n",
              "    }\n",
              "\n",
              "    .colab-df-convert {\n",
              "      background-color: #E8F0FE;\n",
              "      border: none;\n",
              "      border-radius: 50%;\n",
              "      cursor: pointer;\n",
              "      display: none;\n",
              "      fill: #1967D2;\n",
              "      height: 32px;\n",
              "      padding: 0 0 0 0;\n",
              "      width: 32px;\n",
              "    }\n",
              "\n",
              "    .colab-df-convert:hover {\n",
              "      background-color: #E2EBFA;\n",
              "      box-shadow: 0px 1px 2px rgba(60, 64, 67, 0.3), 0px 1px 3px 1px rgba(60, 64, 67, 0.15);\n",
              "      fill: #174EA6;\n",
              "    }\n",
              "\n",
              "    [theme=dark] .colab-df-convert {\n",
              "      background-color: #3B4455;\n",
              "      fill: #D2E3FC;\n",
              "    }\n",
              "\n",
              "    [theme=dark] .colab-df-convert:hover {\n",
              "      background-color: #434B5C;\n",
              "      box-shadow: 0px 1px 3px 1px rgba(0, 0, 0, 0.15);\n",
              "      filter: drop-shadow(0px 1px 2px rgba(0, 0, 0, 0.3));\n",
              "      fill: #FFFFFF;\n",
              "    }\n",
              "  </style>\n",
              "\n",
              "      <script>\n",
              "        const buttonEl =\n",
              "          document.querySelector('#df-e79f7387-0b67-4a5b-85f5-230330adbb51 button.colab-df-convert');\n",
              "        buttonEl.style.display =\n",
              "          google.colab.kernel.accessAllowed ? 'block' : 'none';\n",
              "\n",
              "        async function convertToInteractive(key) {\n",
              "          const element = document.querySelector('#df-e79f7387-0b67-4a5b-85f5-230330adbb51');\n",
              "          const dataTable =\n",
              "            await google.colab.kernel.invokeFunction('convertToInteractive',\n",
              "                                                     [key], {});\n",
              "          if (!dataTable) return;\n",
              "\n",
              "          const docLinkHtml = 'Like what you see? Visit the ' +\n",
              "            '<a target=\"_blank\" href=https://colab.research.google.com/notebooks/data_table.ipynb>data table notebook</a>'\n",
              "            + ' to learn more about interactive tables.';\n",
              "          element.innerHTML = '';\n",
              "          dataTable['output_type'] = 'display_data';\n",
              "          await google.colab.output.renderOutput(dataTable, element);\n",
              "          const docLink = document.createElement('div');\n",
              "          docLink.innerHTML = docLinkHtml;\n",
              "          element.appendChild(docLink);\n",
              "        }\n",
              "      </script>\n",
              "    </div>\n",
              "  </div>\n",
              "  "
            ]
          },
          "metadata": {},
          "execution_count": 1
        }
      ]
    },
    {
      "cell_type": "code",
      "source": [
        "df.columns"
      ],
      "metadata": {
        "colab": {
          "base_uri": "https://localhost:8080/"
        },
        "id": "qMoIUmMaxjRt",
        "outputId": "cec71f05-d0e2-4d9b-a854-5c725e6a66c6"
      },
      "execution_count": null,
      "outputs": [
        {
          "output_type": "execute_result",
          "data": {
            "text/plain": [
              "Index(['Unnamed: 0', 'Title', 'Status', 'Volumes', 'Chapters', 'Rank', 'Score',\n",
              "       'Synopsis', 'Publish_period', 'Genre'],\n",
              "      dtype='object')"
            ]
          },
          "metadata": {},
          "execution_count": 2
        }
      ]
    },
    {
      "cell_type": "code",
      "execution_count": null,
      "metadata": {
        "id": "7oMq51p8MeTm"
      },
      "outputs": [],
      "source": [
        "def print_description(index):\n",
        "    example = df[df.index == index][['Title', 'Synopsis', 'Genre','Status', 'Publish_period']].values[0]\n",
        "    if len(example) > 0:\n",
        "        print('Title:', example[0])\n",
        "        print('Synopsis:', example[1])\n",
        "        print('Genre:', example [2])\n",
        "        print('Status:', example[3])\n",
        "        print('Publish Period:', example[4])"
      ]
    },
    {
      "cell_type": "code",
      "execution_count": null,
      "metadata": {
        "id": "sdQCg9i-MeTn",
        "outputId": "c820b981-f852-4b1d-acb9-3643ee300ff4",
        "colab": {
          "base_uri": "https://localhost:8080/"
        }
      },
      "outputs": [
        {
          "output_type": "stream",
          "name": "stdout",
          "text": [
            "Title: Monster\n",
            "Synopsis: Kenzou Tenma, a renowned Japanese neurosurgeon working in post-war Germany, faces a difficult choice: to operate on Johan Liebert, an orphan boy on the verge of death, or on the mayor of Düsseldorf. In the end, Tenma decides to gamble his reputation by saving Johan, effectively leaving the mayor for dead. As a consequence of his actions, hospital director Heinemann strips Tenma of his position, and Heinemann's daughter Eva breaks off their engagement. Disgraced and shunned by his colleagues, Tenma loses all hope of a successful career—that is, until the mysterious killing of Heinemann gives him another chance. Nine years later, Tenma is the head of the surgical department and close to becoming the director himself. Although all seems well for him at first, he soon becomes entangled in a chain of gruesome murders that have taken place throughout Germany. The culprit is a monster—the same one that Tenma saved on that fateful day nine years ago. [Written by MAL Rewrite]\n",
            "Genre: Mystery', 'Drama', 'Psychological', 'Seinen'\n",
            "Status: Finished\n",
            "Publish Period: Dec  5, 1994 to Dec  20, 2001\n"
          ]
        }
      ],
      "source": [
        "print_description(4)"
      ]
    },
    {
      "cell_type": "code",
      "execution_count": null,
      "metadata": {
        "id": "aLQZbUNlMeTp"
      },
      "outputs": [],
      "source": [
        "#bersihkan teks\n",
        "def Genre_token(Genre):\n",
        "   return Genre.split(' ')"
      ]
    },
    {
      "cell_type": "code",
      "source": [
        "tf_vectorizer = TfidfVectorizer(tokenizer=Genre_token, token_pattern=None) \n",
        "tf_vectorizer.fit(df['Genre']) \n",
        "tf_vectorizer.get_feature_names_out()"
      ],
      "metadata": {
        "colab": {
          "base_uri": "https://localhost:8080/"
        },
        "id": "Im_fMwHEqkWX",
        "outputId": "72ea683d-636e-4dfd-d394-0ee504defba1"
      },
      "execution_count": null,
      "outputs": [
        {
          "output_type": "execute_result",
          "data": {
            "text/plain": [
              "array([\"'adventure',\", \"'cars',\", \"'comedy',\", \"'demons',\", \"'drama'\",\n",
              "       \"'drama',\", \"'ecchi',\", \"'fantasy'\", \"'fantasy',\", \"'game'\",\n",
              "       \"'game',\", \"'gender\", \"'harem'\", \"'harem',\", \"'historical'\",\n",
              "       \"'historical',\", \"'horror'\", \"'horror',\", \"'josei'\", \"'josei',\",\n",
              "       \"'kids'\", \"'kids',\", \"'magic'\", \"'magic',\", \"'martial\", \"'mecha',\",\n",
              "       \"'military'\", \"'military',\", \"'music',\", \"'mystery',\", \"'parody',\",\n",
              "       \"'police'\", \"'police',\", \"'psychological'\", \"'psychological',\",\n",
              "       \"'romance'\", \"'romance',\", \"'samurai'\", \"'samurai',\", \"'school'\",\n",
              "       \"'school',\", \"'sci-fi'\", \"'sci-fi',\", \"'seinen'\", \"'seinen',\",\n",
              "       \"'shoujo\", \"'shoujo'\", \"'shoujo',\", \"'shounen\", \"'shounen'\",\n",
              "       \"'shounen',\", \"'slice\", \"'space'\", \"'space',\", \"'sports'\",\n",
              "       \"'sports',\", \"'super\", \"'supernatural'\", \"'supernatural',\",\n",
              "       \"'thriller'\", \"'vampire'\", \"'vampire',\", \"action',\", \"adventure',\",\n",
              "       \"ai'\", \"ai',\", \"arts'\", \"arts',\", \"bender'\", \"comedy'\", \"comedy',\",\n",
              "       \"dementia',\", \"demons',\", \"drama'\", \"drama',\", \"ecchi',\",\n",
              "       \"fantasy'\", \"fantasy',\", \"game',\", \"historical'\", \"historical',\",\n",
              "       \"josei'\", \"life'\", \"life',\", \"magic',\", \"mecha',\", \"music',\",\n",
              "       \"mystery'\", \"mystery',\", 'of', \"power'\", \"power',\", \"romance'\",\n",
              "       \"romance',\", \"school',\", \"sci-fi',\", \"seinen'\", 'shoujo',\n",
              "       \"shoujo'\", \"shoujo',\", 'shounen', \"shounen'\", \"shounen',\", 'slice',\n",
              "       \"sports',\", \"supernatural'\", \"supernatural',\"], dtype=object)"
            ]
          },
          "metadata": {},
          "execution_count": 6
        }
      ]
    },
    {
      "cell_type": "code",
      "execution_count": null,
      "metadata": {
        "scrolled": false,
        "id": "2iJFuIoRMeTs"
      },
      "outputs": [],
      "source": [
        "tfidf_matrix = tf_vectorizer.fit_transform(df['Genre'])"
      ]
    },
    {
      "cell_type": "code",
      "execution_count": null,
      "metadata": {
        "scrolled": false,
        "colab": {
          "base_uri": "https://localhost:8080/"
        },
        "id": "hI7dCHcRteR4",
        "outputId": "b90872cf-87dd-41b4-819c-ac9b5e880bb4"
      },
      "outputs": [
        {
          "output_type": "execute_result",
          "data": {
            "text/plain": [
              "array([[1.        , 0.46252832, 0.2200812 , ..., 0.07099688, 0.        ,\n",
              "        0.        ],\n",
              "       [0.46252832, 1.        , 0.28663895, ..., 0.13190594, 0.        ,\n",
              "        0.        ],\n",
              "       [0.2200812 , 0.28663895, 1.        , ..., 0.12994014, 0.        ,\n",
              "        0.        ],\n",
              "       ...,\n",
              "       [0.07099688, 0.13190594, 0.12994014, ..., 1.        , 0.14520946,\n",
              "        0.        ],\n",
              "       [0.        , 0.        , 0.        , ..., 0.14520946, 1.        ,\n",
              "        0.        ],\n",
              "       [0.        , 0.        , 0.        , ..., 0.        , 0.        ,\n",
              "        1.        ]])"
            ]
          },
          "metadata": {},
          "execution_count": 8
        }
      ],
      "source": [
        "cos_sim = cosine_similarity(tfidf_matrix, tfidf_matrix)\n",
        "cos_sim"
      ]
    },
    {
      "cell_type": "code",
      "source": [
        "cos_sim_df = pd.DataFrame(cos_sim, index=df['Title'], columns=df['Title']) \n",
        "print('Shape:', cos_sim_df.shape)\n",
        "cos_sim_df.sample(5, axis=1).sample(10, axis=0)"
      ],
      "metadata": {
        "colab": {
          "base_uri": "https://localhost:8080/",
          "height": 490
        },
        "id": "RY95lNs7rurf",
        "outputId": "b1f26ef8-78d2-44e1-9124-7c64bd4121a5"
      },
      "execution_count": null,
      "outputs": [
        {
          "output_type": "stream",
          "name": "stdout",
          "text": [
            "Shape: (936, 936)\n"
          ]
        },
        {
          "output_type": "execute_result",
          "data": {
            "text/plain": [
              "Title                                               Ore to Akuma no Blues  \\\n",
              "Title                                                                       \n",
              "Private Opinion: Banana Fish Another Story                       0.000000   \n",
              "Rengoku ni Warau                                                 0.318733   \n",
              "Umineko no Naku Koro ni - Episode 3: Banquet of...               0.209052   \n",
              "Saver                                                            0.166795   \n",
              "Historie                                                         0.409944   \n",
              "Imouto sae Ireba Ii.                                             0.000000   \n",
              "Little Busters!                                                  0.000000   \n",
              "Can't See Can't Hear But Love                                    0.123244   \n",
              "Frieren: Beyond Journey's End                                    0.000000   \n",
              "Decoration Disorder Disconnection                                0.227002   \n",
              "\n",
              "Title                                               Sword Art Online: Project Alicization  \\\n",
              "Title                                                                                       \n",
              "Private Opinion: Banana Fish Another Story                                       0.135242   \n",
              "Rengoku ni Warau                                                                 0.118074   \n",
              "Umineko no Naku Koro ni - Episode 3: Banquet of...                               0.000000   \n",
              "Saver                                                                            0.151989   \n",
              "Historie                                                                         0.099973   \n",
              "Imouto sae Ireba Ii.                                                             0.000000   \n",
              "Little Busters!                                                                  0.000000   \n",
              "Can't See Can't Hear But Love                                                    0.000000   \n",
              "Frieren: Beyond Journey's End                                                    0.159164   \n",
              "Decoration Disorder Disconnection                                                0.000000   \n",
              "\n",
              "Title                                                Slayers  Hanma Baki  \\\n",
              "Title                                                                      \n",
              "Private Opinion: Banana Fish Another Story          0.127798    0.120469   \n",
              "Rengoku ni Warau                                    0.111576    0.105177   \n",
              "Umineko no Naku Koro ni - Episode 3: Banquet of...  0.000000    0.000000   \n",
              "Saver                                               0.275313    0.179177   \n",
              "Historie                                            0.307541    0.289904   \n",
              "Imouto sae Ireba Ii.                                0.000000    0.000000   \n",
              "Little Busters!                                     0.000000    0.000000   \n",
              "Can't See Can't Hear But Love                       0.000000    0.000000   \n",
              "Frieren: Beyond Journey's End                       0.150404    0.000000   \n",
              "Decoration Disorder Disconnection                   0.000000    0.000000   \n",
              "\n",
              "Title                                               Ouran Koukou Host Club Short Special  \n",
              "Title                                                                                     \n",
              "Private Opinion: Banana Fish Another Story                                           0.0  \n",
              "Rengoku ni Warau                                                                     0.0  \n",
              "Umineko no Naku Koro ni - Episode 3: Banquet of...                                   0.0  \n",
              "Saver                                                                                0.0  \n",
              "Historie                                                                             0.0  \n",
              "Imouto sae Ireba Ii.                                                                 0.0  \n",
              "Little Busters!                                                                      0.0  \n",
              "Can't See Can't Hear But Love                                                        0.0  \n",
              "Frieren: Beyond Journey's End                                                        0.0  \n",
              "Decoration Disorder Disconnection                                                    0.0  "
            ],
            "text/html": [
              "\n",
              "  <div id=\"df-44b7c08a-39b5-411c-af46-6ec8f6f809f2\">\n",
              "    <div class=\"colab-df-container\">\n",
              "      <div>\n",
              "<style scoped>\n",
              "    .dataframe tbody tr th:only-of-type {\n",
              "        vertical-align: middle;\n",
              "    }\n",
              "\n",
              "    .dataframe tbody tr th {\n",
              "        vertical-align: top;\n",
              "    }\n",
              "\n",
              "    .dataframe thead th {\n",
              "        text-align: right;\n",
              "    }\n",
              "</style>\n",
              "<table border=\"1\" class=\"dataframe\">\n",
              "  <thead>\n",
              "    <tr style=\"text-align: right;\">\n",
              "      <th>Title</th>\n",
              "      <th>Ore to Akuma no Blues</th>\n",
              "      <th>Sword Art Online: Project Alicization</th>\n",
              "      <th>Slayers</th>\n",
              "      <th>Hanma Baki</th>\n",
              "      <th>Ouran Koukou Host Club Short Special</th>\n",
              "    </tr>\n",
              "    <tr>\n",
              "      <th>Title</th>\n",
              "      <th></th>\n",
              "      <th></th>\n",
              "      <th></th>\n",
              "      <th></th>\n",
              "      <th></th>\n",
              "    </tr>\n",
              "  </thead>\n",
              "  <tbody>\n",
              "    <tr>\n",
              "      <th>Private Opinion: Banana Fish Another Story</th>\n",
              "      <td>0.000000</td>\n",
              "      <td>0.135242</td>\n",
              "      <td>0.127798</td>\n",
              "      <td>0.120469</td>\n",
              "      <td>0.0</td>\n",
              "    </tr>\n",
              "    <tr>\n",
              "      <th>Rengoku ni Warau</th>\n",
              "      <td>0.318733</td>\n",
              "      <td>0.118074</td>\n",
              "      <td>0.111576</td>\n",
              "      <td>0.105177</td>\n",
              "      <td>0.0</td>\n",
              "    </tr>\n",
              "    <tr>\n",
              "      <th>Umineko no Naku Koro ni - Episode 3: Banquet of the Golden Witch</th>\n",
              "      <td>0.209052</td>\n",
              "      <td>0.000000</td>\n",
              "      <td>0.000000</td>\n",
              "      <td>0.000000</td>\n",
              "      <td>0.0</td>\n",
              "    </tr>\n",
              "    <tr>\n",
              "      <th>Saver</th>\n",
              "      <td>0.166795</td>\n",
              "      <td>0.151989</td>\n",
              "      <td>0.275313</td>\n",
              "      <td>0.179177</td>\n",
              "      <td>0.0</td>\n",
              "    </tr>\n",
              "    <tr>\n",
              "      <th>Historie</th>\n",
              "      <td>0.409944</td>\n",
              "      <td>0.099973</td>\n",
              "      <td>0.307541</td>\n",
              "      <td>0.289904</td>\n",
              "      <td>0.0</td>\n",
              "    </tr>\n",
              "    <tr>\n",
              "      <th>Imouto sae Ireba Ii.</th>\n",
              "      <td>0.000000</td>\n",
              "      <td>0.000000</td>\n",
              "      <td>0.000000</td>\n",
              "      <td>0.000000</td>\n",
              "      <td>0.0</td>\n",
              "    </tr>\n",
              "    <tr>\n",
              "      <th>Little Busters!</th>\n",
              "      <td>0.000000</td>\n",
              "      <td>0.000000</td>\n",
              "      <td>0.000000</td>\n",
              "      <td>0.000000</td>\n",
              "      <td>0.0</td>\n",
              "    </tr>\n",
              "    <tr>\n",
              "      <th>Can't See Can't Hear But Love</th>\n",
              "      <td>0.123244</td>\n",
              "      <td>0.000000</td>\n",
              "      <td>0.000000</td>\n",
              "      <td>0.000000</td>\n",
              "      <td>0.0</td>\n",
              "    </tr>\n",
              "    <tr>\n",
              "      <th>Frieren: Beyond Journey's End</th>\n",
              "      <td>0.000000</td>\n",
              "      <td>0.159164</td>\n",
              "      <td>0.150404</td>\n",
              "      <td>0.000000</td>\n",
              "      <td>0.0</td>\n",
              "    </tr>\n",
              "    <tr>\n",
              "      <th>Decoration Disorder Disconnection</th>\n",
              "      <td>0.227002</td>\n",
              "      <td>0.000000</td>\n",
              "      <td>0.000000</td>\n",
              "      <td>0.000000</td>\n",
              "      <td>0.0</td>\n",
              "    </tr>\n",
              "  </tbody>\n",
              "</table>\n",
              "</div>\n",
              "      <button class=\"colab-df-convert\" onclick=\"convertToInteractive('df-44b7c08a-39b5-411c-af46-6ec8f6f809f2')\"\n",
              "              title=\"Convert this dataframe to an interactive table.\"\n",
              "              style=\"display:none;\">\n",
              "        \n",
              "  <svg xmlns=\"http://www.w3.org/2000/svg\" height=\"24px\"viewBox=\"0 0 24 24\"\n",
              "       width=\"24px\">\n",
              "    <path d=\"M0 0h24v24H0V0z\" fill=\"none\"/>\n",
              "    <path d=\"M18.56 5.44l.94 2.06.94-2.06 2.06-.94-2.06-.94-.94-2.06-.94 2.06-2.06.94zm-11 1L8.5 8.5l.94-2.06 2.06-.94-2.06-.94L8.5 2.5l-.94 2.06-2.06.94zm10 10l.94 2.06.94-2.06 2.06-.94-2.06-.94-.94-2.06-.94 2.06-2.06.94z\"/><path d=\"M17.41 7.96l-1.37-1.37c-.4-.4-.92-.59-1.43-.59-.52 0-1.04.2-1.43.59L10.3 9.45l-7.72 7.72c-.78.78-.78 2.05 0 2.83L4 21.41c.39.39.9.59 1.41.59.51 0 1.02-.2 1.41-.59l7.78-7.78 2.81-2.81c.8-.78.8-2.07 0-2.86zM5.41 20L4 18.59l7.72-7.72 1.47 1.35L5.41 20z\"/>\n",
              "  </svg>\n",
              "      </button>\n",
              "      \n",
              "  <style>\n",
              "    .colab-df-container {\n",
              "      display:flex;\n",
              "      flex-wrap:wrap;\n",
              "      gap: 12px;\n",
              "    }\n",
              "\n",
              "    .colab-df-convert {\n",
              "      background-color: #E8F0FE;\n",
              "      border: none;\n",
              "      border-radius: 50%;\n",
              "      cursor: pointer;\n",
              "      display: none;\n",
              "      fill: #1967D2;\n",
              "      height: 32px;\n",
              "      padding: 0 0 0 0;\n",
              "      width: 32px;\n",
              "    }\n",
              "\n",
              "    .colab-df-convert:hover {\n",
              "      background-color: #E2EBFA;\n",
              "      box-shadow: 0px 1px 2px rgba(60, 64, 67, 0.3), 0px 1px 3px 1px rgba(60, 64, 67, 0.15);\n",
              "      fill: #174EA6;\n",
              "    }\n",
              "\n",
              "    [theme=dark] .colab-df-convert {\n",
              "      background-color: #3B4455;\n",
              "      fill: #D2E3FC;\n",
              "    }\n",
              "\n",
              "    [theme=dark] .colab-df-convert:hover {\n",
              "      background-color: #434B5C;\n",
              "      box-shadow: 0px 1px 3px 1px rgba(0, 0, 0, 0.15);\n",
              "      filter: drop-shadow(0px 1px 2px rgba(0, 0, 0, 0.3));\n",
              "      fill: #FFFFFF;\n",
              "    }\n",
              "  </style>\n",
              "\n",
              "      <script>\n",
              "        const buttonEl =\n",
              "          document.querySelector('#df-44b7c08a-39b5-411c-af46-6ec8f6f809f2 button.colab-df-convert');\n",
              "        buttonEl.style.display =\n",
              "          google.colab.kernel.accessAllowed ? 'block' : 'none';\n",
              "\n",
              "        async function convertToInteractive(key) {\n",
              "          const element = document.querySelector('#df-44b7c08a-39b5-411c-af46-6ec8f6f809f2');\n",
              "          const dataTable =\n",
              "            await google.colab.kernel.invokeFunction('convertToInteractive',\n",
              "                                                     [key], {});\n",
              "          if (!dataTable) return;\n",
              "\n",
              "          const docLinkHtml = 'Like what you see? Visit the ' +\n",
              "            '<a target=\"_blank\" href=https://colab.research.google.com/notebooks/data_table.ipynb>data table notebook</a>'\n",
              "            + ' to learn more about interactive tables.';\n",
              "          element.innerHTML = '';\n",
              "          dataTable['output_type'] = 'display_data';\n",
              "          await google.colab.output.renderOutput(dataTable, element);\n",
              "          const docLink = document.createElement('div');\n",
              "          docLink.innerHTML = docLinkHtml;\n",
              "          element.appendChild(docLink);\n",
              "        }\n",
              "      </script>\n",
              "    </div>\n",
              "  </div>\n",
              "  "
            ]
          },
          "metadata": {},
          "execution_count": 9
        }
      ]
    },
    {
      "cell_type": "code",
      "execution_count": null,
      "metadata": {
        "id": "dUj-kNamMeTs",
        "colab": {
          "base_uri": "https://localhost:8080/"
        },
        "outputId": "77ab2518-befe-48a2-e979-45943965120f"
      },
      "outputs": [
        {
          "output_type": "execute_result",
          "data": {
            "text/plain": [
              "0                                               Berserk\n",
              "1       JoJo no Kimyou na Bouken Part 7: Steel Ball Run\n",
              "2                                             One Piece\n",
              "3                                              Vagabond\n",
              "4                                               Monster\n",
              "5                                   Fullmetal Alchemist\n",
              "6                                        Oyasumi Punpun\n",
              "7                                            Grand Blue\n",
              "8                                             Slam Dunk\n",
              "9                                               Kingdom\n",
              "10                      Monogatari Series: First Season\n",
              "11                                         Vinland Saga\n",
              "12                                    20th Century Boys\n",
              "13    Kaguya-sama wa Kokurasetai: Tensai-tachi no Re...\n",
              "14                                        Ashita no Joe\n",
              "15                     Monogatari Series: Second Season\n",
              "16                                            Haikyuu!!\n",
              "17                                                  GTO\n",
              "18                                      3-gatsu no Lion\n",
              "19                                      Houseki no Kuni\n",
              "Name: Title, dtype: object"
            ]
          },
          "metadata": {},
          "execution_count": 10
        }
      ],
      "source": [
        "# Set index utama di kolom 'title'\n",
        "indices = pd.Series(df['Title'])\n",
        "indices[:20]"
      ]
    },
    {
      "cell_type": "code",
      "execution_count": null,
      "metadata": {
        "id": "uiTi2W2nMeTt"
      },
      "outputs": [],
      "source": [
        "def recommendations(Title, cos_sim = cos_sim):\n",
        "    # pdb.set_trace()\n",
        "    recommended_manga = []\n",
        "\n",
        "    # Mengambil nama manga berdasarkan variabel indicies\n",
        "    idx = indices[indices == Title].index[0]\n",
        "\n",
        "    # Membuat series berdasarkan skor kesamaan\n",
        "    score_series = pd.Series(cos_sim[idx]).sort_values(ascending = False)\n",
        "\n",
        "    # mengambil index dan dibuat 10 baris rekomendasi manga terbaik\n",
        "    top_10_ranks = list(score_series.iloc[1:11].index)\n",
        "    \n",
        "    for i in top_10_ranks:\n",
        "      recommended_manga.append(list(df['Title'])[i])\n",
        "        \n",
        "    return recommended_manga"
      ]
    },
    {
      "cell_type": "code",
      "execution_count": null,
      "metadata": {
        "id": "Y8u52Jc0MeTt",
        "colab": {
          "base_uri": "https://localhost:8080/"
        },
        "outputId": "4f79a35e-b124-4acd-f71d-934992735dbf"
      },
      "outputs": [
        {
          "name": "stdout",
          "output_type": "stream",
          "text": [
            "Input judul manga: Detective Conan\n"
          ]
        },
        {
          "output_type": "execute_result",
          "data": {
            "text/plain": [
              "['City Hunter',\n",
              " 'Shibatora',\n",
              " 'Pandora Hearts',\n",
              " 'Karakuri Circus',\n",
              " 'Binbougami ga!',\n",
              " \"Konosuba: God's Blessing on This Wonderful World!\",\n",
              " 'Kieli: Shisha-tachi wa Kouya ni Nemuru',\n",
              " 'Koten-bu Series',\n",
              " 'Senyuu.',\n",
              " 'Rave']"
            ]
          },
          "metadata": {},
          "execution_count": 28
        }
      ],
      "source": [
        "manga = (input('Input judul manga: '))\n",
        "recommendations(manga)"
      ]
    }
  ]
}